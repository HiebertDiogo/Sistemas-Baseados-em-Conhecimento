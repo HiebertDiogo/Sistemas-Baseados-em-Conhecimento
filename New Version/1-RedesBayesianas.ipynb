{
 "cells": [
  {
   "cell_type": "markdown",
   "id": "a43822d8",
   "metadata": {},
   "source": [
    "# Redes Bayesianas"
   ]
  },
  {
   "cell_type": "code",
   "execution_count": 15,
   "id": "8caff2be",
   "metadata": {},
   "outputs": [],
   "source": [
    "import pandas as pd\n",
    "from pomegranate import Node, DiscreteDistribution, ConditionalProbabilityTable, BayesianNetwork"
   ]
  },
  {
   "cell_type": "markdown",
   "id": "e751dd7e",
   "metadata": {},
   "source": [
    "## 1. Preparando o DataFrame"
   ]
  },
  {
   "cell_type": "markdown",
   "id": "c8b7728c",
   "metadata": {},
   "source": [
    "> CARREGAMENTO E PRÉ-PROCESSAMENTO DE DADOS"
   ]
  },
  {
   "cell_type": "code",
   "execution_count": 16,
   "id": "a94e81ef",
   "metadata": {},
   "outputs": [
    {
     "name": "stdout",
     "output_type": "stream",
     "text": [
      "DataFrame pronto. Colunas restantes: ['Survived', 'Pclass', 'Sex', 'Age']\n"
     ]
    }
   ],
   "source": [
    "# Carrega o dataset\n",
    "titanic = pd.read_csv('../Datasets/Titanic-Dataset.csv')\n",
    "\n",
    "# Preenche os valores ausentes na coluna 'Age' com a mediana\n",
    "median_age = titanic['Age'].median()\n",
    "titanic['Age']= titanic['Age'].fillna(median_age)\n",
    "\n",
    "# Remove as colunas irrelevantes para o modelo\n",
    "columns_to_drop = ['PassengerId', 'SibSp', 'Parch', 'Ticket', 'Fare', 'Cabin', 'Embarked', 'Name']\n",
    "titanic = titanic.drop(columns_to_drop, axis=1)\n",
    "\n",
    "# Mapeia os rótulos numéricos e de string para nomes descritivos\n",
    "titanic['Survived'] = titanic['Survived'].map({0: \"não_sobreviveu\", 1: \"sobreviveu\"})\n",
    "titanic['Pclass'] = titanic['Pclass'].map({1: \"primeira_classe\", 2: \"segunda_classe\", 3: \"terceira_classe\"})\n",
    "titanic['Sex'] = titanic['Sex'].map({'male': \"masculino\", 'female': \"feminino\"})\n",
    "\n",
    "print(\"DataFrame pronto. Colunas restantes:\", titanic.columns.tolist())"
   ]
  },
  {
   "cell_type": "markdown",
   "id": "dd516a94",
   "metadata": {},
   "source": [
    "## 2. Construindo a Rede Bayesiana"
   ]
  },
  {
   "cell_type": "markdown",
   "id": "c145a1b8",
   "metadata": {},
   "source": [
    "> CÁLCULO DE PROBABILIDADES E CONSTRUÇÃO DOS NÓS"
   ]
  },
  {
   "cell_type": "code",
   "execution_count": 17,
   "id": "c1bea0e3",
   "metadata": {},
   "outputs": [],
   "source": [
    "# Cria as distribuições para os nós pais\n",
    "sex_dist = DiscreteDistribution(titanic['Sex'].value_counts(normalize=True).to_dict())\n",
    "pclass_dist = DiscreteDistribution(titanic['Pclass'].value_counts(normalize=True).to_dict())\n",
    "\n",
    "# Formata a tabela de probabilidade condicional para o nó 'Survived'\n",
    "prob_table_series = titanic.groupby(['Sex', 'Pclass'])['Survived'].value_counts(normalize=True)\n",
    "prob_table_pomegranate = prob_table_series.reset_index(name='probability').values.tolist()"
   ]
  },
  {
   "cell_type": "code",
   "execution_count": 18,
   "id": "1fa07610",
   "metadata": {},
   "outputs": [],
   "source": [
    "# Cria os nós da rede\n",
    "sex_node = Node(sex_dist, name=\"Sex\")\n",
    "pclass_node = Node(pclass_dist, name=\"Pclass\")\n",
    "survived_node = Node(\n",
    "    ConditionalProbabilityTable(\n",
    "        prob_table_pomegranate,\n",
    "        [sex_node.distribution, pclass_node.distribution]\n",
    "    ), name=\"Survived\"\n",
    ")"
   ]
  },
  {
   "cell_type": "markdown",
   "id": "e3747d85",
   "metadata": {},
   "source": [
    "## 3. Montando e Treinando o Modelo"
   ]
  },
  {
   "cell_type": "code",
   "execution_count": 19,
   "id": "40eccfda",
   "metadata": {},
   "outputs": [],
   "source": [
    "# Cria o modelo da Rede Bayesiana\n",
    "model = BayesianNetwork()\n",
    "\n",
    "# Adiciona os nós e as arestas\n",
    "model.add_states(sex_node, pclass_node, survived_node)\n",
    "model.add_edge(sex_node, survived_node)\n",
    "model.add_edge(pclass_node, survived_node)\n",
    "\n",
    "model.bake()"
   ]
  },
  {
   "cell_type": "markdown",
   "id": "4a46415d",
   "metadata": {},
   "source": [
    "## 4. Realizando Previsões (Inferência)"
   ]
  },
  {
   "cell_type": "markdown",
   "id": "088c5765",
   "metadata": {},
   "source": [
    "> REALIZAR INFERÊNCIA E PREDIÇÃO"
   ]
  },
  {
   "cell_type": "code",
   "execution_count": 20,
   "id": "27a67928",
   "metadata": {},
   "outputs": [],
   "source": [
    "def print_predictions(predictions):\n",
    "    for node, prediction in zip(model.states, predictions):\n",
    "        if isinstance(prediction, str):\n",
    "            print(f\"{node.name}: {prediction}\")\n",
    "        else:\n",
    "            print(f\"Probabilidade do nó '{node.name}':\")\n",
    "            for value, probability in prediction.parameters[0].items():\n",
    "                print(f\"\\t{value}: {probability:.4f}\")"
   ]
  },
  {
   "cell_type": "markdown",
   "id": "34752ef5",
   "metadata": {},
   "source": [
    "## 5. Exemplos"
   ]
  },
  {
   "cell_type": "markdown",
   "id": "6ec4ec11",
   "metadata": {},
   "source": [
    "* Previsão 1: Qual a probabilidade de sobrevivência para um passageiro do sexo masculino?"
   ]
  },
  {
   "cell_type": "code",
   "execution_count": 21,
   "id": "3dc33092",
   "metadata": {},
   "outputs": [
    {
     "name": "stdout",
     "output_type": "stream",
     "text": [
      "Previsão 1: Sabendo que o passageiro é do sexo masculino...\n",
      "Sex: masculino\n",
      "Probabilidade do nó 'Pclass':\n",
      "\tterceira_classe: 0.5511\n",
      "\tprimeira_classe: 0.2424\n",
      "\tsegunda_classe: 0.2065\n",
      "Probabilidade do nó 'Survived':\n",
      "\tnão_sobreviveu: 0.8034\n",
      "\tsobreviveu: 0.1966\n"
     ]
    }
   ],
   "source": [
    "print(\"Previsão 1: Sabendo que o passageiro é do sexo masculino...\")\n",
    "predictions_1 = model.predict_proba({\"Sex\": \"masculino\"})\n",
    "print_predictions(predictions_1)"
   ]
  },
  {
   "cell_type": "markdown",
   "id": "b857e8a0",
   "metadata": {},
   "source": [
    "* Previsão 2: Qual a probabilidade de sobrevivência sabendo que o passageiro é da primeira classe?"
   ]
  },
  {
   "cell_type": "code",
   "execution_count": 22,
   "id": "25acbe77",
   "metadata": {},
   "outputs": [
    {
     "name": "stdout",
     "output_type": "stream",
     "text": [
      "Previsão 2: Sabendo que o passageiro é da primeira classe...\n",
      "Probabilidade do nó 'Sex':\n",
      "\tmasculino: 0.6476\n",
      "\tfeminino: 0.3524\n",
      "Pclass: primeira_classe\n",
      "Probabilidade do nó 'Survived':\n",
      "\tnão_sobreviveu: 0.4200\n",
      "\tsobreviveu: 0.5800\n"
     ]
    }
   ],
   "source": [
    "print(\"Previsão 2: Sabendo que o passageiro é da primeira classe...\")\n",
    "predictions_2 = model.predict_proba({\"Pclass\": \"primeira_classe\"})\n",
    "print_predictions(predictions_2)"
   ]
  },
  {
   "cell_type": "markdown",
   "id": "63ba4c31",
   "metadata": {},
   "source": [
    "* Previsão 3: Qual a probabilidade de sobrevivência para um passageiro do sexo feminino?"
   ]
  },
  {
   "cell_type": "code",
   "execution_count": 23,
   "id": "024d7304",
   "metadata": {},
   "outputs": [
    {
     "name": "stdout",
     "output_type": "stream",
     "text": [
      "Previsão 3: Sabendo que o passageiro é do sexo feminino...\n",
      "Sex: feminino\n",
      "Probabilidade do nó 'Pclass':\n",
      "\tterceira_classe: 0.5511\n",
      "\tprimeira_classe: 0.2424\n",
      "\tsegunda_classe: 0.2065\n",
      "Probabilidade do nó 'Survived':\n",
      "\tnão_sobreviveu: 0.2996\n",
      "\tsobreviveu: 0.7004\n"
     ]
    }
   ],
   "source": [
    "print(\"Previsão 3: Sabendo que o passageiro é do sexo feminino...\")\n",
    "predictions_1 = model.predict_proba({\"Sex\": \"feminino\"})\n",
    "print_predictions(predictions_1)\n"
   ]
  },
  {
   "cell_type": "markdown",
   "id": "19659ef5",
   "metadata": {},
   "source": [
    "* Previsão 4: Qual a probabilidade de sobrevivência para um passageiro do sexo feminino e da primeira classe?\n"
   ]
  },
  {
   "cell_type": "code",
   "execution_count": 24,
   "id": "a2a6d941",
   "metadata": {},
   "outputs": [
    {
     "name": "stdout",
     "output_type": "stream",
     "text": [
      "Previsão 4: Sabendo que o passageiro é do sexo feminino e da primeira classe...\n",
      "Sex: feminino\n",
      "Pclass: primeira_classe\n",
      "Probabilidade do nó 'Survived':\n",
      "\tnão_sobreviveu: 0.0319\n",
      "\tsobreviveu: 0.9681\n"
     ]
    }
   ],
   "source": [
    "print(\"Previsão 4: Sabendo que o passageiro é do sexo feminino e da primeira classe...\")\n",
    "predictions_1 = model.predict_proba({\"Sex\": \"feminino\", \"Pclass\": \"primeira_classe\"})\n",
    "print_predictions(predictions_1)"
   ]
  },
  {
   "cell_type": "markdown",
   "id": "8e1fd4bd",
   "metadata": {},
   "source": [
    "* Previsão 5: Qual a probabilidade de sobrevivência para um passageiro do sexo feminino e da terceira classe?\n"
   ]
  },
  {
   "cell_type": "code",
   "execution_count": 25,
   "id": "3f9ee2c8",
   "metadata": {},
   "outputs": [
    {
     "name": "stdout",
     "output_type": "stream",
     "text": [
      "Previsão 5: Sabendo que o passageiro é do sexo feminino e da terceira classe...\n",
      "Sex: feminino\n",
      "Pclass: terceira_classe\n",
      "Probabilidade do nó 'Survived':\n",
      "\tnão_sobreviveu: 0.5000\n",
      "\tsobreviveu: 0.5000\n"
     ]
    }
   ],
   "source": [
    "print(\"Previsão 5: Sabendo que o passageiro é do sexo feminino e da terceira classe...\")\n",
    "predictions_1 = model.predict_proba({\"Sex\": \"feminino\", \"Pclass\": \"terceira_classe\"})\n",
    "print_predictions(predictions_1)"
   ]
  }
 ],
 "metadata": {
  "kernelspec": {
   "display_name": "base",
   "language": "python",
   "name": "python3"
  },
  "language_info": {
   "codemirror_mode": {
    "name": "ipython",
    "version": 3
   },
   "file_extension": ".py",
   "mimetype": "text/x-python",
   "name": "python",
   "nbconvert_exporter": "python",
   "pygments_lexer": "ipython3",
   "version": "3.10.10"
  }
 },
 "nbformat": 4,
 "nbformat_minor": 5
}
