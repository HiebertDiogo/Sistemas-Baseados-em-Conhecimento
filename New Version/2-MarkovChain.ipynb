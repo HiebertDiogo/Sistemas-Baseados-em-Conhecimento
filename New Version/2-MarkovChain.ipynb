{
  "cells": [
    {
      "cell_type": "markdown",
      "id": "b14ccac8",
      "metadata": {},
      "source": [
        "# Cadeia de Markov"
      ]
    },
    {
      "cell_type": "code",
      "execution_count": null,
      "id": "d87193eb",
      "metadata": {},
      "outputs": [],
      "source": [
        "###########################################\n",
        "### Sistemas Baseados em Conhecimento\n",
        "### Notebook: N03 (Modelo Oculto de Markov)   \n",
        "###########################################\n",
        "\n",
        "#https://www.datacamp.com/tutorial/markov-chains-python-tutorial"
      ]
    },
    {
      "cell_type": "code",
      "execution_count": 3,
      "id": "dUqvvfHBWtFR",
      "metadata": {
        "colab": {
          "base_uri": "https://localhost:8080/",
          "height": 946
        },
        "collapsed": true,
        "id": "dUqvvfHBWtFR",
        "outputId": "667d3c61-b2ee-4343-f715-3650cdebf221"
      },
      "outputs": [],
      "source": [
        "# !pip install pomegranate==v0.15\n",
        "# !pip install gdown"
      ]
    },
    {
      "cell_type": "code",
      "execution_count": 10,
      "id": "f1bc4b9e",
      "metadata": {
        "id": "f1bc4b9e"
      },
      "outputs": [],
      "source": [
        "import os\n",
        "import gdown\n",
        "import numpy as np\n",
        "import pandas as pd\n",
        "from pomegranate import *"
      ]
    },
    {
      "cell_type": "code",
      "execution_count": 18,
      "id": "HYZoi9EKWYtr",
      "metadata": {
        "colab": {
          "base_uri": "https://localhost:8080/"
        },
        "id": "HYZoi9EKWYtr",
        "outputId": "ecd90a50-4b2f-4cf3-aed8-8d5839e3312f"
      },
      "outputs": [
        {
          "name": "stderr",
          "output_type": "stream",
          "text": [
            "Downloading...\n",
            "From: https://drive.google.com/uc?id=1Ufc4cwvjOUYHNq3fly77FPQ9F10BMDH1\n",
            "To: c:\\content\\Datasets\\dataset\n",
            "100%|██████████| 9.23k/9.23k [00:00<00:00, 8.89MB/s]"
          ]
        },
        {
          "name": "stdout",
          "output_type": "stream",
          "text": [
            "Arquivo baixado com sucesso em: /content/Datasets/dataset\n"
          ]
        },
        {
          "name": "stderr",
          "output_type": "stream",
          "text": [
            "\n"
          ]
        },
        {
          "data": {
            "text/plain": [
              "0    75\n",
              "1    76\n",
              "2    75\n",
              "3    76\n",
              "4    76\n",
              "Name: umidade, dtype: int64"
            ]
          },
          "execution_count": 18,
          "metadata": {},
          "output_type": "execute_result"
        }
      ],
      "source": [
        "# O ID do arquivo\n",
        "file_id = '1Ufc4cwvjOUYHNq3fly77FPQ9F10BMDH1'\n",
        "\n",
        "# URL para download direto\n",
        "url = f'https://drive.google.com/uc?id={file_id}'\n",
        "\n",
        "# Cria a pasta de destino se ela não existir\n",
        "folder_path = '/content/Datasets/'\n",
        "if not os.path.exists(folder_path):\n",
        "    os.makedirs(folder_path)\n",
        "\n",
        "# Define o caminho completo para o arquivo de saída\n",
        "output_path = os.path.join(folder_path, 'dataset') # Nome do arquivo alterado\n",
        "\n",
        "# Baixa o arquivo usando a URL\n",
        "gdown.download(url, output_path, quiet=False)\n",
        "\n",
        "# Confirma que o arquivo foi baixado\n",
        "print(f'Arquivo baixado com sucesso em: {output_path}')\n",
        "\n",
        "# Lê o arquivo\n",
        "df = pd.read_csv(output_path)\n",
        "\n",
        "# Exibe as primeiras linhas do DataFrame\n",
        "coluna_umidade = df[\"umidade\"]\n",
        "coluna_umidade.head()"
      ]
    },
    {
      "cell_type": "code",
      "execution_count": 12,
      "id": "b5bb336e",
      "metadata": {},
      "outputs": [
        {
          "data": {
            "text/plain": [
              "0    75\n",
              "1    76\n",
              "2    75\n",
              "3    76\n",
              "4    76\n",
              "Name: umidade, dtype: int64"
            ]
          },
          "execution_count": 12,
          "metadata": {},
          "output_type": "execute_result"
        }
      ],
      "source": [
        "coluna_umidade = df[\"umidade\"]\n",
        "coluna_umidade.head()"
      ]
    },
    {
      "cell_type": "code",
      "execution_count": 6,
      "id": "fOxRCG47XTiO",
      "metadata": {
        "id": "fOxRCG47XTiO"
      },
      "outputs": [],
      "source": [
        "def umidade(u):\n",
        "    if u < 40:\n",
        "        return \"baixa\"\n",
        "    elif u < 70:\n",
        "        return \"media\"\n",
        "    else:\n",
        "        return \"alta\""
      ]
    },
    {
      "cell_type": "code",
      "execution_count": 7,
      "id": "tCVppxU3bZMU",
      "metadata": {
        "colab": {
          "base_uri": "https://localhost:8080/"
        },
        "id": "tCVppxU3bZMU",
        "outputId": "1e779af2-1316-49ad-fe1f-891df75d659e"
      },
      "outputs": [
        {
          "name": "stdout",
          "output_type": "stream",
          "text": [
            "Sequência de estados (umidade):\n",
            "      umidade state\n",
            "0          75  alta\n",
            "1          76  alta\n",
            "2          75  alta\n",
            "3          76  alta\n",
            "4          76  alta\n",
            "...       ...   ...\n",
            "2245       76  alta\n",
            "2246       76  alta\n",
            "2247       79  alta\n",
            "2248       78  alta\n",
            "2249       79  alta\n",
            "\n",
            "[2250 rows x 2 columns]\n"
          ]
        }
      ],
      "source": [
        "df[\"state\"] = df[\"umidade\"].apply(umidade)\n",
        "print(\"Sequência de estados (umidade):\")\n",
        "print(df[[\"umidade\", \"state\"]])\n"
      ]
    },
    {
      "cell_type": "code",
      "execution_count": 8,
      "id": "dQLucW_tb8zC",
      "metadata": {
        "colab": {
          "base_uri": "https://localhost:8080/"
        },
        "id": "dQLucW_tb8zC",
        "outputId": "73e09e01-664b-45f8-d690-774c7ee1a52b"
      },
      "outputs": [
        {
          "name": "stdout",
          "output_type": "stream",
          "text": [
            "[[0.         0.         0.        ]\n",
            " [0.         0.85962733 0.14037267]\n",
            " [0.         0.07825485 0.92174515]]\n"
          ]
        }
      ],
      "source": [
        "sequence = df[\"state\"].tolist()\n",
        "states = [\"baixa\", \"media\", \"alta\"]\n",
        "\n",
        "# Construir matriz de transição\n",
        "counts = pd.crosstab(index=sequence[:-1], columns=sequence[1:])\n",
        "transitions = (counts.T / counts.T.sum()).fillna(0).T.reindex(index=states, columns=states, fill_value=0).values\n",
        "print(transitions)"
      ]
    },
    {
      "cell_type": "code",
      "execution_count": 9,
      "id": "hnVNLkypcD5-",
      "metadata": {
        "colab": {
          "base_uri": "https://localhost:8080/"
        },
        "id": "hnVNLkypcD5-",
        "outputId": "98554236-7d33-4eb7-85e0-6ac862a6eadc"
      },
      "outputs": [
        {
          "name": "stdout",
          "output_type": "stream",
          "text": [
            "\n",
            "Simulação de 30 passos:\n",
            "['alta', 'alta', 'alta', 'alta', 'alta', 'alta', 'alta', 'alta', 'alta', 'alta', 'media', 'media', 'media', 'media', 'media', 'media', 'media', 'media', 'media', 'media', 'media', 'media', 'media', 'media', 'alta', 'alta', 'alta', 'alta', 'alta', 'alta']\n"
          ]
        }
      ],
      "source": [
        "# Distribuição inicial\n",
        "start_probs = (pd.Series(sequence).value_counts(normalize=True).reindex(states, fill_value=0).to_dict())\n",
        "start = DiscreteDistribution(start_probs)\n",
        "\n",
        "\n",
        "transition_table = []\n",
        "for i_idx, i in enumerate(states):\n",
        "    for j_idx, j in enumerate(states):\n",
        "        transition_table.append([i, j, transitions[i_idx, j_idx]])\n",
        "\n",
        "transitions_pomegranate = ConditionalProbabilityTable(transition_table, [start])\n",
        "# Criar Cadeia de Markov\n",
        "model = MarkovChain([start, transitions_pomegranate])\n",
        "\n",
        "print(\"\\nSimulação de 30 passos:\")\n",
        "print(model.sample(30))"
      ]
    }
  ],
  "metadata": {
    "colab": {
      "provenance": []
    },
    "kernelspec": {
      "display_name": "base",
      "language": "python",
      "name": "python3"
    },
    "language_info": {
      "codemirror_mode": {
        "name": "ipython",
        "version": 3
      },
      "file_extension": ".py",
      "mimetype": "text/x-python",
      "name": "python",
      "nbconvert_exporter": "python",
      "pygments_lexer": "ipython3",
      "version": "3.10.10"
    }
  },
  "nbformat": 4,
  "nbformat_minor": 5
}
